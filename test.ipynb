{
 "cells": [
  {
   "cell_type": "code",
   "execution_count": 10,
   "id": "e361e7ea",
   "metadata": {},
   "outputs": [],
   "source": [
    "import pandas as pd"
   ]
  },
  {
   "cell_type": "code",
   "execution_count": 11,
   "id": "b2f4cab4",
   "metadata": {},
   "outputs": [],
   "source": [
    "df = pd.read_json('result.json')"
   ]
  },
  {
   "cell_type": "code",
   "execution_count": 12,
   "id": "5450207d",
   "metadata": {},
   "outputs": [
    {
     "data": {
      "text/html": [
       "<div>\n",
       "<style scoped>\n",
       "    .dataframe tbody tr th:only-of-type {\n",
       "        vertical-align: middle;\n",
       "    }\n",
       "\n",
       "    .dataframe tbody tr th {\n",
       "        vertical-align: top;\n",
       "    }\n",
       "\n",
       "    .dataframe thead th {\n",
       "        text-align: right;\n",
       "    }\n",
       "</style>\n",
       "<table border=\"1\" class=\"dataframe\">\n",
       "  <thead>\n",
       "    <tr style=\"text-align: right;\">\n",
       "      <th></th>\n",
       "      <th>tarifs</th>\n",
       "      <th>horaires</th>\n",
       "      <th>jours_fermeture</th>\n",
       "      <th>dates_feries</th>\n",
       "      <th>error</th>\n",
       "    </tr>\n",
       "  </thead>\n",
       "  <tbody>\n",
       "    <tr>\n",
       "      <th>0</th>\n",
       "      <td>[{'nom': 'plein', 'pour': 'Billets d'entrée', ...</td>\n",
       "      <td>[{'jour': 'lundi', 'horaires_ouverture': '09:0...</td>\n",
       "      <td>[25 décembre, 1er janvier, 1er mai]</td>\n",
       "      <td>[]</td>\n",
       "      <td>False</td>\n",
       "    </tr>\n",
       "  </tbody>\n",
       "</table>\n",
       "</div>"
      ],
      "text/plain": [
       "                                              tarifs  \\\n",
       "0  [{'nom': 'plein', 'pour': 'Billets d'entrée', ...   \n",
       "\n",
       "                                            horaires  \\\n",
       "0  [{'jour': 'lundi', 'horaires_ouverture': '09:0...   \n",
       "\n",
       "                       jours_fermeture dates_feries  error  \n",
       "0  [25 décembre, 1er janvier, 1er mai]           []  False  "
      ]
     },
     "execution_count": 12,
     "metadata": {},
     "output_type": "execute_result"
    }
   ],
   "source": [
    "df"
   ]
  },
  {
   "cell_type": "code",
   "execution_count": 15,
   "id": "5e01070c",
   "metadata": {},
   "outputs": [
    {
     "data": {
      "text/html": [
       "<div>\n",
       "<style scoped>\n",
       "    .dataframe tbody tr th:only-of-type {\n",
       "        vertical-align: middle;\n",
       "    }\n",
       "\n",
       "    .dataframe tbody tr th {\n",
       "        vertical-align: top;\n",
       "    }\n",
       "\n",
       "    .dataframe thead th {\n",
       "        text-align: right;\n",
       "    }\n",
       "</style>\n",
       "<table border=\"1\" class=\"dataframe\">\n",
       "  <thead>\n",
       "    <tr style=\"text-align: right;\">\n",
       "      <th></th>\n",
       "      <th>tarifs</th>\n",
       "      <th>horaires</th>\n",
       "      <th>jours_fermeture</th>\n",
       "      <th>dates_feries</th>\n",
       "      <th>error</th>\n",
       "    </tr>\n",
       "  </thead>\n",
       "  <tbody>\n",
       "    <tr>\n",
       "      <th>0</th>\n",
       "      <td>{'nom': 'plein', 'pour': 'Billets d'entrée', '...</td>\n",
       "      <td>[{'jour': 'lundi', 'horaires_ouverture': '09:0...</td>\n",
       "      <td>[25 décembre, 1er janvier, 1er mai]</td>\n",
       "      <td>[]</td>\n",
       "      <td>False</td>\n",
       "    </tr>\n",
       "    <tr>\n",
       "      <th>0</th>\n",
       "      <td>{'nom': 'réduit', 'pour': 'Billets d'entrée', ...</td>\n",
       "      <td>[{'jour': 'lundi', 'horaires_ouverture': '09:0...</td>\n",
       "      <td>[25 décembre, 1er janvier, 1er mai]</td>\n",
       "      <td>[]</td>\n",
       "      <td>False</td>\n",
       "    </tr>\n",
       "    <tr>\n",
       "      <th>0</th>\n",
       "      <td>{'nom': 'gratuit', 'pour': 'Billets d'entrée',...</td>\n",
       "      <td>[{'jour': 'lundi', 'horaires_ouverture': '09:0...</td>\n",
       "      <td>[25 décembre, 1er janvier, 1er mai]</td>\n",
       "      <td>[]</td>\n",
       "      <td>False</td>\n",
       "    </tr>\n",
       "    <tr>\n",
       "      <th>0</th>\n",
       "      <td>{'nom': 'audioguide', 'pour': 'Audioguide', 'm...</td>\n",
       "      <td>[{'jour': 'lundi', 'horaires_ouverture': '09:0...</td>\n",
       "      <td>[25 décembre, 1er janvier, 1er mai]</td>\n",
       "      <td>[]</td>\n",
       "      <td>False</td>\n",
       "    </tr>\n",
       "  </tbody>\n",
       "</table>\n",
       "</div>"
      ],
      "text/plain": [
       "                                              tarifs  \\\n",
       "0  {'nom': 'plein', 'pour': 'Billets d'entrée', '...   \n",
       "0  {'nom': 'réduit', 'pour': 'Billets d'entrée', ...   \n",
       "0  {'nom': 'gratuit', 'pour': 'Billets d'entrée',...   \n",
       "0  {'nom': 'audioguide', 'pour': 'Audioguide', 'm...   \n",
       "\n",
       "                                            horaires  \\\n",
       "0  [{'jour': 'lundi', 'horaires_ouverture': '09:0...   \n",
       "0  [{'jour': 'lundi', 'horaires_ouverture': '09:0...   \n",
       "0  [{'jour': 'lundi', 'horaires_ouverture': '09:0...   \n",
       "0  [{'jour': 'lundi', 'horaires_ouverture': '09:0...   \n",
       "\n",
       "                       jours_fermeture dates_feries  error  \n",
       "0  [25 décembre, 1er janvier, 1er mai]           []  False  \n",
       "0  [25 décembre, 1er janvier, 1er mai]           []  False  \n",
       "0  [25 décembre, 1er janvier, 1er mai]           []  False  \n",
       "0  [25 décembre, 1er janvier, 1er mai]           []  False  "
      ]
     },
     "execution_count": 15,
     "metadata": {},
     "output_type": "execute_result"
    }
   ],
   "source": [
    "df.explode('tarifs')"
   ]
  }
 ],
 "metadata": {
  "kernelspec": {
   "display_name": ".venv",
   "language": "python",
   "name": "python3"
  },
  "language_info": {
   "codemirror_mode": {
    "name": "ipython",
    "version": 3
   },
   "file_extension": ".py",
   "mimetype": "text/x-python",
   "name": "python",
   "nbconvert_exporter": "python",
   "pygments_lexer": "ipython3",
   "version": "3.13.2"
  }
 },
 "nbformat": 4,
 "nbformat_minor": 5
}
